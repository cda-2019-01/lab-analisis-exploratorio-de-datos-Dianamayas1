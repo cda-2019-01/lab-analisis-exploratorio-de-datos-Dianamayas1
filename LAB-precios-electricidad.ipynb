{
 "cells": [
  {
   "cell_type": "markdown",
   "metadata": {},
   "source": [
    "Evolución de los Precios de la Electricidad\n",
    "==="
   ]
  },
  {
   "cell_type": "markdown",
   "metadata": {},
   "source": [
    "# Instrucciones"
   ]
  },
  {
   "cell_type": "markdown",
   "metadata": {},
   "source": [
    "En el archivo `precios.zip`  se encuentran los archivos `Precio_Bolsa_Nacional_($kwh)_ano.xls` en formato de Microsoft Excel, los cuales contienen los precios históricos horarios de la electricidad para el mercado eléctrico Colombiano entre los años 1995 y 2017 en COL-PESOS/kWh. A partir de la información suministrada realice las siguientes actividades. "
   ]
  },
  {
   "cell_type": "markdown",
   "metadata": {},
   "source": [
    "**1.--** Lea los archivos y cree una tabla única concatenando la información para cada uno de los años. Debe transformar la tabla de tal forma que quede con las columnas `Fecha`, `Hora` y `Precio` (únicamente tres columnas)."
   ]
  },
  {
   "cell_type": "code",
   "execution_count": 7,
   "metadata": {},
   "outputs": [],
   "source": [
    "import matplotlib.pyplot as plt\n",
    "import matplotlib as mpl\n",
    "import pandas as pd\n",
    "import numpy as np\n",
    "import datetime as dt\n",
    "import glob\n",
    "\n",
    "%matplotlib inline"
   ]
  },
  {
   "cell_type": "code",
   "execution_count": 8,
   "metadata": {},
   "outputs": [],
   "source": [
    "def LeerPrecios(filename):\n",
    "    for indice in range(10):\n",
    "        DataFrame = pd.read_excel(filename,skiprows = indice ,usecols = list(range(25)))\n",
    "        if DataFrame.iloc[0,0] == 'Fecha':\n",
    "            DataFrame = pd.read_excel(filename,skiprows = indice+1, usecols = list(range(25)))\n",
    "            break\n",
    "    return DataFrame"
   ]
  },
  {
   "cell_type": "code",
   "execution_count": 9,
   "metadata": {},
   "outputs": [],
   "source": [
    "Archivos = !ls precios/*.xls*\n",
    "DataFrames = []\n",
    "for filename in Archivos:\n",
    "    DataFrames.append(LeerPrecios(filename))\n",
    "DataFrames = pd.concat(DataFrames)\n",
    "DataFrames = pd.melt(DataFrames,id_vars = 'Fecha')\n",
    "DataFrames.columns = ['Fecha','Hora','Precio']"
   ]
  },
  {
   "cell_type": "code",
   "execution_count": 10,
   "metadata": {},
   "outputs": [
    {
     "data": {
      "text/plain": [
       "201816"
      ]
     },
     "execution_count": 10,
     "metadata": {},
     "output_type": "execute_result"
    }
   ],
   "source": [
    "DataFrames.shape[0]"
   ]
  },
  {
   "cell_type": "markdown",
   "metadata": {},
   "source": [
    "**2.--** Compute e imprima el número de registros con datos faltantes."
   ]
  },
  {
   "cell_type": "code",
   "execution_count": 14,
   "metadata": {},
   "outputs": [
    {
     "data": {
      "text/plain": [
       "238"
      ]
     },
     "execution_count": 14,
     "metadata": {},
     "output_type": "execute_result"
    }
   ],
   "source": [
    "df1 = DataFrames.dropna()\n",
    "DataFrames.shape[0] - df1.shape[0]"
   ]
  },
  {
   "cell_type": "markdown",
   "metadata": {},
   "source": [
    "**3.--** Compute e imprima el número de registros duplicados."
   ]
  },
  {
   "cell_type": "code",
   "execution_count": 15,
   "metadata": {},
   "outputs": [
    {
     "data": {
      "text/plain": [
       "1951"
      ]
     },
     "execution_count": 15,
     "metadata": {},
     "output_type": "execute_result"
    }
   ],
   "source": [
    "DataFrameSinRepetir = DataFrames.copy()\n",
    "DataFrameSinRepetir = DataFrameSinRepetir.drop_duplicates()\n",
    "TotalRepetidos =  len(DataFrames.index) - len(DataFrameSinRepetir.index)\n",
    "TotalRepetidos"
   ]
  },
  {
   "cell_type": "markdown",
   "metadata": {},
   "source": [
    "**4.--** Elimine los registros con datos duplicados o datos faltantes, e imprima la cantidad de registros que quedan (registros completos)."
   ]
  },
  {
   "cell_type": "code",
   "execution_count": 16,
   "metadata": {},
   "outputs": [
    {
     "data": {
      "text/plain": [
       "199819"
      ]
     },
     "execution_count": 16,
     "metadata": {},
     "output_type": "execute_result"
    }
   ],
   "source": [
    "DataFrameSinRepetir = DataFrames.copy()\n",
    "DataFrameSinRepetir = (DataFrameSinRepetir.drop_duplicates())\n",
    "DataFrameSinRepetir = DataFrameSinRepetir.dropna()\n",
    "len(DataFrameSinRepetir.index)"
   ]
  },
  {
   "cell_type": "markdown",
   "metadata": {},
   "source": [
    "**5.--** Compute y grafique el precio primedio diario."
   ]
  },
  {
   "cell_type": "code",
   "execution_count": 17,
   "metadata": {},
   "outputs": [
    {
     "data": {
      "text/plain": [
       "<matplotlib.axes._subplots.AxesSubplot at 0x7f504a7ab630>"
      ]
     },
     "execution_count": 17,
     "metadata": {},
     "output_type": "execute_result"
    },
    {
     "data": {
      "image/png": "[encoded data removed]",
      "text/plain": [
       "<Figure size 432x288 with 1 Axes>"
      ]
     },
     "metadata": {
      "needs_background": "light"
     },
     "output_type": "display_data"
    }
   ],
   "source": [
    "df = DataFrames.copy()\n",
    "df['dia'] = pd.DatetimeIndex(df['Fecha']).day\n",
    "df['mes'] = pd.DatetimeIndex(df['Fecha']).month\n",
    "aux = df.groupby('dia')['Precio'].mean()\n",
    "aux.plot(kind=\"bar\")"
   ]
  },
  {
   "cell_type": "markdown",
   "metadata": {},
   "source": [
    "**6.--** Compute y grafique el precio máximo por mes."
   ]
  },
  {
   "cell_type": "code",
   "execution_count": 18,
   "metadata": {},
   "outputs": [
    {
     "data": {
      "text/plain": [
       "<matplotlib.axes._subplots.AxesSubplot at 0x7f504a61b2e8>"
      ]
     },
     "execution_count": 18,
     "metadata": {},
     "output_type": "execute_result"
    },
    {
     "data": {
      "image/png": "[encoded data removed]",
      "text/plain": [
       "<Figure size 432x288 with 1 Axes>"
      ]
     },
     "metadata": {
      "needs_background": "light"
     },
     "output_type": "display_data"
    }
   ],
   "source": [
    "aux = df.groupby('mes')['Precio'].max()\n",
    "aux.plot(kind=\"bar\")"
   ]
  },
  {
   "cell_type": "markdown",
   "metadata": {},
   "source": [
    "**7.--** Compute y grafique el precio mínimo mensual."
   ]
  },
  {
   "cell_type": "code",
   "execution_count": 19,
   "metadata": {},
   "outputs": [
    {
     "data": {
      "text/plain": [
       "<matplotlib.axes._subplots.AxesSubplot at 0x7f504a573dd8>"
      ]
     },
     "execution_count": 19,
     "metadata": {},
     "output_type": "execute_result"
    },
    {
     "data": {
      "image/png": "[encoded data removed]",
      "text/plain": [
       "<Figure size 432x288 with 1 Axes>"
      ]
     },
     "metadata": {
      "needs_background": "light"
     },
     "output_type": "display_data"
    }
   ],
   "source": [
    "aux = df.groupby('mes')['Precio'].min()\n",
    "aux.plot(kind=\"bar\")"
   ]
  },
  {
   "cell_type": "markdown",
   "metadata": {},
   "source": [
    "**8.--** Haga un gráfico para comparar el precio máximo del mes (para cada mes) y el precio promedio mensual."
   ]
  },
  {
   "cell_type": "code",
   "execution_count": 20,
   "metadata": {},
   "outputs": [
    {
     "data": {
      "text/plain": [
       "<matplotlib.axes._subplots.AxesSubplot at 0x7f504a52fe80>"
      ]
     },
     "execution_count": 20,
     "metadata": {},
     "output_type": "execute_result"
    },
    {
     "data": {
      "image/png": "[encoded data removed]",
      "text/plain": [
       "<Figure size 432x288 with 2 Axes>"
      ]
     },
     "metadata": {
      "needs_background": "light"
     },
     "output_type": "display_data"
    }
   ],
   "source": [
    "aux = df.groupby('mes')['Precio'].max()\n",
    "aux2 = df.groupby('mes')['Precio'].mean()\n",
    "fig, axes = plt.subplots(nrows=1, ncols=2)\n",
    "aux.plot(kind=\"bar\", ax=axes[0])\n",
    "aux2.plot(kind=\"bar\", ax=axes[1])"
   ]
  },
  {
   "cell_type": "markdown",
   "metadata": {},
   "source": [
    "**9.--** Haga un histograma que muestre a que horas se produce el máximo precio diario para los días laborales."
   ]
  },
  {
   "cell_type": "code",
   "execution_count": 21,
   "metadata": {},
   "outputs": [
    {
     "data": {
      "text/plain": [
       "(array([  42.,   29.,   25.,   20.,   31.,   92.,  135.,  169.,  300.,\n",
       "         402.,  659., 1048.,  614.,  562.,  778.,  719.,  521.,  423.,\n",
       "        2801., 5064., 1677.,  630.,  153.,   41.]),\n",
       " array([ 0.        ,  0.95833333,  1.91666667,  2.875     ,  3.83333333,\n",
       "         4.79166667,  5.75      ,  6.70833333,  7.66666667,  8.625     ,\n",
       "         9.58333333, 10.54166667, 11.5       , 12.45833333, 13.41666667,\n",
       "        14.375     , 15.33333333, 16.29166667, 17.25      , 18.20833333,\n",
       "        19.16666667, 20.125     , 21.08333333, 22.04166667, 23.        ]),\n",
       " <a list of 24 Patch objects>)"
      ]
     },
     "execution_count": 21,
     "metadata": {},
     "output_type": "execute_result"
    },
    {
     "data": {
      "image/png": "[encoded data removed]",
      "text/plain": [
       "<Figure size 432x288 with 1 Axes>"
      ]
     },
     "metadata": {
      "needs_background": "light"
     },
     "output_type": "display_data"
    }
   ],
   "source": [
    "df['dia_semana'] = [a.weekday() for a in pd.to_datetime(df['Fecha'])]\n",
    "aux = df.copy()\n",
    "aux = aux[aux['dia_semana'] < 5]\n",
    "aux2 = aux.groupby('Fecha')['Precio'].max()#.agg({'Precio': np.max}) \n",
    "aux3 = pd.DataFrame({'Fecha':aux2.index, 'PrecioMax':aux2.values})\n",
    "aux['Fecha'] = pd.to_datetime(aux['Fecha'])\n",
    "aux5 = pd.merge(aux, aux3, on=['Fecha'], how='inner')\n",
    "aux6 = aux5[aux5['Precio'] == aux5['PrecioMax']]\n",
    "a = list(map(int,aux6['Hora'].tolist()))\n",
    "plt.hist(a, bins=24)"
   ]
  },
  {
   "cell_type": "markdown",
   "metadata": {},
   "source": [
    "**10.--** Haga un histograma que muestre a que horas se produce el máximo precio diario para los días sabado."
   ]
  },
  {
   "cell_type": "code",
   "execution_count": 22,
   "metadata": {},
   "outputs": [],
   "source": [
    "DatosPorDia = DataFrameSinRepetir.copy()\n",
    "DatosPorDia['Fecha'] = pd.to_datetime(DatosPorDia['Fecha'])\n",
    "DatosPorDia['Dia'] =  DatosPorDia[['Fecha']].apply(lambda x: dt.datetime.strftime(x['Fecha'], '%A'), axis=1)\n",
    "DataFramePorDiaSabado = DatosPorDia[(DatosPorDia['Dia'] == 'Saturday') ]\n",
    "DataFrameAgrupadoPorFecha = DataFramePorDiaSabado.groupby('Fecha').agg({'Precio': np.max}) \n",
    "DataFrameAgrupadoPorFecha.reset_index(inplace=True)\n",
    "DataFramesMerge = pd.merge(DataFramePorDiaSabado, DataFrameAgrupadoPorFecha, on=['Fecha','Precio'], how='inner')"
   ]
  },
  {
   "cell_type": "code",
   "execution_count": 23,
   "metadata": {},
   "outputs": [
    {
     "data": {
      "text/plain": [
       "Text(0, 0.5, 'Numero de ocurrencias')"
      ]
     },
     "execution_count": 23,
     "metadata": {},
     "output_type": "execute_result"
    },
    {
     "data": {
      "image/png": "[encoded data removed]",
      "text/plain": [
       "<Figure size 432x288 with 1 Axes>"
      ]
     },
     "metadata": {
      "needs_background": "light"
     },
     "output_type": "display_data"
    }
   ],
   "source": [
    "ListaDeHoras = list(map(int,DataFramesMerge['Hora'].tolist()))\n",
    "plt.hist(ListaDeHoras, bins=24)\n",
    "plt.title('Histograma : Horas en las que se presento el precio máximo \"Sabado\"')\n",
    "plt.xlabel('Horas')\n",
    "plt.ylabel('Numero de ocurrencias')"
   ]
  },
  {
   "cell_type": "markdown",
   "metadata": {},
   "source": [
    "**11.--** Haga un histograma que muestre a que horas se produce el máximo precio diario para los días domingo."
   ]
  },
  {
   "cell_type": "code",
   "execution_count": 24,
   "metadata": {},
   "outputs": [],
   "source": [
    "DatosPorDia = DataFrameSinRepetir.copy()\n",
    "DatosPorDia['Fecha'] = pd.to_datetime(DatosPorDia['Fecha'])\n",
    "DatosPorDia['Dia'] =  DatosPorDia[['Fecha']].apply(lambda x: dt.datetime.strftime(x['Fecha'], '%A'), axis=1)\n",
    "DataFramePorDiaDomingo = DatosPorDia[(DatosPorDia['Dia'] == 'Sunday') ]\n",
    "DataFrameAgrupadoPorFecha = DataFramePorDiaDomingo.groupby('Fecha').agg({'Precio': np.max}) \n",
    "DataFrameAgrupadoPorFecha.reset_index(inplace=True)\n",
    "DataFramesMerge = pd.merge(DataFramePorDiaDomingo, DataFrameAgrupadoPorFecha, on=['Fecha','Precio'], how='inner')"
   ]
  },
  {
   "cell_type": "code",
   "execution_count": 25,
   "metadata": {},
   "outputs": [
    {
     "data": {
      "text/plain": [
       "Text(0, 0.5, 'Numero de ocurrencias')"
      ]
     },
     "execution_count": 25,
     "metadata": {},
     "output_type": "execute_result"
    },
    {
     "data": {
      "image/png": "[encoded data removed]",
      "text/plain": [
       "<Figure size 432x288 with 1 Axes>"
      ]
     },
     "metadata": {
      "needs_background": "light"
     },
     "output_type": "display_data"
    }
   ],
   "source": [
    "ListaDeHoras = list(map(int,DataFramesMerge['Hora'].tolist()))\n",
    "plt.hist(ListaDeHoras, bins=24)\n",
    "plt.title('Histograma : Horas en las que se presento el precio máximo \"Domingo\"')\n",
    "plt.xlabel('Horas')\n",
    "plt.ylabel('Numero de ocurrencias')"
   ]
  },
  {
   "cell_type": "markdown",
   "metadata": {},
   "source": [
    "**12.--** Imprima una tabla con la fecha y el valor más bajo por año del precio de bolsa."
   ]
  },
  {
   "cell_type": "code",
   "execution_count": 26,
   "metadata": {},
   "outputs": [
    {
     "data": {
      "text/html": [
       "<div>\n",
       "<style scoped>\n",
       "    .dataframe tbody tr th:only-of-type {\n",
       "        vertical-align: middle;\n",
       "    }\n",
       "\n",
       "    .dataframe tbody tr th {\n",
       "        vertical-align: top;\n",
       "    }\n",
       "\n",
       "    .dataframe thead th {\n",
       "        text-align: right;\n",
       "    }\n",
       "</style>\n",
       "<table border=\"1\" class=\"dataframe\">\n",
       "  <thead>\n",
       "    <tr style=\"text-align: right;\">\n",
       "      <th></th>\n",
       "      <th>Fecha</th>\n",
       "      <th>PrecioMin</th>\n",
       "    </tr>\n",
       "  </thead>\n",
       "  <tbody>\n",
       "    <tr>\n",
       "      <th>8</th>\n",
       "      <td>1995-07-28</td>\n",
       "      <td>0.000000</td>\n",
       "    </tr>\n",
       "    <tr>\n",
       "      <th>11</th>\n",
       "      <td>1995-07-31</td>\n",
       "      <td>0.000000</td>\n",
       "    </tr>\n",
       "    <tr>\n",
       "      <th>12</th>\n",
       "      <td>1995-08-01</td>\n",
       "      <td>0.000000</td>\n",
       "    </tr>\n",
       "    <tr>\n",
       "      <th>85</th>\n",
       "      <td>1995-10-13</td>\n",
       "      <td>0.000000</td>\n",
       "    </tr>\n",
       "    <tr>\n",
       "      <th>339</th>\n",
       "      <td>1995-07-29</td>\n",
       "      <td>0.000000</td>\n",
       "    </tr>\n",
       "    <tr>\n",
       "      <th>340</th>\n",
       "      <td>1995-07-30</td>\n",
       "      <td>0.000000</td>\n",
       "    </tr>\n",
       "    <tr>\n",
       "      <th>3801</th>\n",
       "      <td>1995-07-26</td>\n",
       "      <td>0.000000</td>\n",
       "    </tr>\n",
       "    <tr>\n",
       "      <th>4141</th>\n",
       "      <td>1996-06-30 00:00:00</td>\n",
       "      <td>0.000000</td>\n",
       "    </tr>\n",
       "    <tr>\n",
       "      <th>4150</th>\n",
       "      <td>1996-07-09 00:00:00</td>\n",
       "      <td>0.000000</td>\n",
       "    </tr>\n",
       "    <tr>\n",
       "      <th>4153</th>\n",
       "      <td>1996-07-12 00:00:00</td>\n",
       "      <td>0.000000</td>\n",
       "    </tr>\n",
       "    <tr>\n",
       "      <th>4163</th>\n",
       "      <td>1996-07-22 00:00:00</td>\n",
       "      <td>0.000000</td>\n",
       "    </tr>\n",
       "    <tr>\n",
       "      <th>4164</th>\n",
       "      <td>1996-07-23 00:00:00</td>\n",
       "      <td>0.000000</td>\n",
       "    </tr>\n",
       "    <tr>\n",
       "      <th>4165</th>\n",
       "      <td>1996-07-24 00:00:00</td>\n",
       "      <td>0.000000</td>\n",
       "    </tr>\n",
       "    <tr>\n",
       "      <th>4901</th>\n",
       "      <td>1996-07-04 00:00:00</td>\n",
       "      <td>0.000000</td>\n",
       "    </tr>\n",
       "    <tr>\n",
       "      <th>6042</th>\n",
       "      <td>1996-07-11 00:00:00</td>\n",
       "      <td>0.000000</td>\n",
       "    </tr>\n",
       "    <tr>\n",
       "      <th>7870</th>\n",
       "      <td>1996-05-10 00:00:00</td>\n",
       "      <td>0.000000</td>\n",
       "    </tr>\n",
       "    <tr>\n",
       "      <th>9832</th>\n",
       "      <td>1996-07-21 00:00:00</td>\n",
       "      <td>0.000000</td>\n",
       "    </tr>\n",
       "    <tr>\n",
       "      <th>12843</th>\n",
       "      <td>1996-07-08 00:00:00</td>\n",
       "      <td>0.000000</td>\n",
       "    </tr>\n",
       "    <tr>\n",
       "      <th>13957</th>\n",
       "      <td>1997-07-15 00:00:00</td>\n",
       "      <td>10.882310</td>\n",
       "    </tr>\n",
       "    <tr>\n",
       "      <th>21984</th>\n",
       "      <td>1998-07-12 00:00:00</td>\n",
       "      <td>13.847330</td>\n",
       "    </tr>\n",
       "    <tr>\n",
       "      <th>21985</th>\n",
       "      <td>1998-07-13 00:00:00</td>\n",
       "      <td>13.847330</td>\n",
       "    </tr>\n",
       "    <tr>\n",
       "      <th>21986</th>\n",
       "      <td>1998-07-14 00:00:00</td>\n",
       "      <td>13.847330</td>\n",
       "    </tr>\n",
       "    <tr>\n",
       "      <th>21987</th>\n",
       "      <td>1998-07-15 00:00:00</td>\n",
       "      <td>13.847330</td>\n",
       "    </tr>\n",
       "    <tr>\n",
       "      <th>21988</th>\n",
       "      <td>1998-07-16 00:00:00</td>\n",
       "      <td>13.847330</td>\n",
       "    </tr>\n",
       "    <tr>\n",
       "      <th>21990</th>\n",
       "      <td>1998-07-18 00:00:00</td>\n",
       "      <td>13.847330</td>\n",
       "    </tr>\n",
       "    <tr>\n",
       "      <th>21991</th>\n",
       "      <td>1998-07-19 00:00:00</td>\n",
       "      <td>13.847330</td>\n",
       "    </tr>\n",
       "    <tr>\n",
       "      <th>21992</th>\n",
       "      <td>1998-07-20 00:00:00</td>\n",
       "      <td>13.847330</td>\n",
       "    </tr>\n",
       "    <tr>\n",
       "      <th>21993</th>\n",
       "      <td>1998-07-21 00:00:00</td>\n",
       "      <td>13.847330</td>\n",
       "    </tr>\n",
       "    <tr>\n",
       "      <th>21994</th>\n",
       "      <td>1998-07-22 00:00:00</td>\n",
       "      <td>13.847330</td>\n",
       "    </tr>\n",
       "    <tr>\n",
       "      <th>21995</th>\n",
       "      <td>1998-07-23 00:00:00</td>\n",
       "      <td>13.847330</td>\n",
       "    </tr>\n",
       "    <tr>\n",
       "      <th>...</th>\n",
       "      <td>...</td>\n",
       "      <td>...</td>\n",
       "    </tr>\n",
       "    <tr>\n",
       "      <th>33410</th>\n",
       "      <td>1999-03-28 00:00:00</td>\n",
       "      <td>18.359530</td>\n",
       "    </tr>\n",
       "    <tr>\n",
       "      <th>38649</th>\n",
       "      <td>1999-03-31 00:00:00</td>\n",
       "      <td>18.359530</td>\n",
       "    </tr>\n",
       "    <tr>\n",
       "      <th>42336</th>\n",
       "      <td>2000-03-25</td>\n",
       "      <td>21.531167</td>\n",
       "    </tr>\n",
       "    <tr>\n",
       "      <th>42337</th>\n",
       "      <td>2000-03-26</td>\n",
       "      <td>21.531167</td>\n",
       "    </tr>\n",
       "    <tr>\n",
       "      <th>42339</th>\n",
       "      <td>2000-03-28</td>\n",
       "      <td>21.531167</td>\n",
       "    </tr>\n",
       "    <tr>\n",
       "      <th>45266</th>\n",
       "      <td>2000-03-27</td>\n",
       "      <td>21.531167</td>\n",
       "    </tr>\n",
       "    <tr>\n",
       "      <th>46366</th>\n",
       "      <td>2000-03-29</td>\n",
       "      <td>21.531167</td>\n",
       "    </tr>\n",
       "    <tr>\n",
       "      <th>46368</th>\n",
       "      <td>2000-03-31</td>\n",
       "      <td>21.531167</td>\n",
       "    </tr>\n",
       "    <tr>\n",
       "      <th>50166</th>\n",
       "      <td>2001-08-20</td>\n",
       "      <td>24.822879</td>\n",
       "    </tr>\n",
       "    <tr>\n",
       "      <th>57718</th>\n",
       "      <td>2002-04-29</td>\n",
       "      <td>26.777682</td>\n",
       "    </tr>\n",
       "    <tr>\n",
       "      <th>58074</th>\n",
       "      <td>2002-04-20</td>\n",
       "      <td>26.777682</td>\n",
       "    </tr>\n",
       "    <tr>\n",
       "      <th>58079</th>\n",
       "      <td>2002-04-25</td>\n",
       "      <td>26.777682</td>\n",
       "    </tr>\n",
       "    <tr>\n",
       "      <th>58442</th>\n",
       "      <td>2002-04-23</td>\n",
       "      <td>26.777682</td>\n",
       "    </tr>\n",
       "    <tr>\n",
       "      <th>66404</th>\n",
       "      <td>2003-02-14</td>\n",
       "      <td>37.013438</td>\n",
       "    </tr>\n",
       "    <tr>\n",
       "      <th>75574</th>\n",
       "      <td>2004-03-29</td>\n",
       "      <td>32.252998</td>\n",
       "    </tr>\n",
       "    <tr>\n",
       "      <th>84180</th>\n",
       "      <td>2005-10-04</td>\n",
       "      <td>27.581415</td>\n",
       "    </tr>\n",
       "    <tr>\n",
       "      <th>93683</th>\n",
       "      <td>2006-10-17</td>\n",
       "      <td>26.714797</td>\n",
       "    </tr>\n",
       "    <tr>\n",
       "      <th>101546</th>\n",
       "      <td>2007-05-03</td>\n",
       "      <td>30.173824</td>\n",
       "    </tr>\n",
       "    <tr>\n",
       "      <th>110666</th>\n",
       "      <td>2008-05-26</td>\n",
       "      <td>29.199135</td>\n",
       "    </tr>\n",
       "    <tr>\n",
       "      <th>119659</th>\n",
       "      <td>2009-12-22</td>\n",
       "      <td>32.892503</td>\n",
       "    </tr>\n",
       "    <tr>\n",
       "      <th>120043</th>\n",
       "      <td>2009-12-24</td>\n",
       "      <td>32.892503</td>\n",
       "    </tr>\n",
       "    <tr>\n",
       "      <th>128664</th>\n",
       "      <td>2010-07-12</td>\n",
       "      <td>32.024957</td>\n",
       "    </tr>\n",
       "    <tr>\n",
       "      <th>137388</th>\n",
       "      <td>2011-06-06</td>\n",
       "      <td>33.291100</td>\n",
       "    </tr>\n",
       "    <tr>\n",
       "      <th>148307</th>\n",
       "      <td>2012-04-29</td>\n",
       "      <td>34.988099</td>\n",
       "    </tr>\n",
       "    <tr>\n",
       "      <th>154784</th>\n",
       "      <td>2013-01-09</td>\n",
       "      <td>40.415346</td>\n",
       "    </tr>\n",
       "    <tr>\n",
       "      <th>164276</th>\n",
       "      <td>2014-01-11</td>\n",
       "      <td>38.941951</td>\n",
       "    </tr>\n",
       "    <tr>\n",
       "      <th>173031</th>\n",
       "      <td>2015-01-06</td>\n",
       "      <td>46.791501</td>\n",
       "    </tr>\n",
       "    <tr>\n",
       "      <th>181399</th>\n",
       "      <td>2016-12-09</td>\n",
       "      <td>61.100689</td>\n",
       "    </tr>\n",
       "    <tr>\n",
       "      <th>189926</th>\n",
       "      <td>2017-03-28</td>\n",
       "      <td>60.312095</td>\n",
       "    </tr>\n",
       "    <tr>\n",
       "      <th>199070</th>\n",
       "      <td>2018-04-06</td>\n",
       "      <td>61.457224</td>\n",
       "    </tr>\n",
       "  </tbody>\n",
       "</table>\n",
       "<p>71 rows × 2 columns</p>\n",
       "</div>"
      ],
      "text/plain": [
       "                      Fecha  PrecioMin\n",
       "8                1995-07-28   0.000000\n",
       "11               1995-07-31   0.000000\n",
       "12               1995-08-01   0.000000\n",
       "85               1995-10-13   0.000000\n",
       "339              1995-07-29   0.000000\n",
       "340              1995-07-30   0.000000\n",
       "3801             1995-07-26   0.000000\n",
       "4141    1996-06-30 00:00:00   0.000000\n",
       "4150    1996-07-09 00:00:00   0.000000\n",
       "4153    1996-07-12 00:00:00   0.000000\n",
       "4163    1996-07-22 00:00:00   0.000000\n",
       "4164    1996-07-23 00:00:00   0.000000\n",
       "4165    1996-07-24 00:00:00   0.000000\n",
       "4901    1996-07-04 00:00:00   0.000000\n",
       "6042    1996-07-11 00:00:00   0.000000\n",
       "7870    1996-05-10 00:00:00   0.000000\n",
       "9832    1996-07-21 00:00:00   0.000000\n",
       "12843   1996-07-08 00:00:00   0.000000\n",
       "13957   1997-07-15 00:00:00  10.882310\n",
       "21984   1998-07-12 00:00:00  13.847330\n",
       "21985   1998-07-13 00:00:00  13.847330\n",
       "21986   1998-07-14 00:00:00  13.847330\n",
       "21987   1998-07-15 00:00:00  13.847330\n",
       "21988   1998-07-16 00:00:00  13.847330\n",
       "21990   1998-07-18 00:00:00  13.847330\n",
       "21991   1998-07-19 00:00:00  13.847330\n",
       "21992   1998-07-20 00:00:00  13.847330\n",
       "21993   1998-07-21 00:00:00  13.847330\n",
       "21994   1998-07-22 00:00:00  13.847330\n",
       "21995   1998-07-23 00:00:00  13.847330\n",
       "...                     ...        ...\n",
       "33410   1999-03-28 00:00:00  18.359530\n",
       "38649   1999-03-31 00:00:00  18.359530\n",
       "42336            2000-03-25  21.531167\n",
       "42337            2000-03-26  21.531167\n",
       "42339            2000-03-28  21.531167\n",
       "45266            2000-03-27  21.531167\n",
       "46366            2000-03-29  21.531167\n",
       "46368            2000-03-31  21.531167\n",
       "50166            2001-08-20  24.822879\n",
       "57718            2002-04-29  26.777682\n",
       "58074            2002-04-20  26.777682\n",
       "58079            2002-04-25  26.777682\n",
       "58442            2002-04-23  26.777682\n",
       "66404            2003-02-14  37.013438\n",
       "75574            2004-03-29  32.252998\n",
       "84180            2005-10-04  27.581415\n",
       "93683            2006-10-17  26.714797\n",
       "101546           2007-05-03  30.173824\n",
       "110666           2008-05-26  29.199135\n",
       "119659           2009-12-22  32.892503\n",
       "120043           2009-12-24  32.892503\n",
       "128664           2010-07-12  32.024957\n",
       "137388           2011-06-06  33.291100\n",
       "148307           2012-04-29  34.988099\n",
       "154784           2013-01-09  40.415346\n",
       "164276           2014-01-11  38.941951\n",
       "173031           2015-01-06  46.791501\n",
       "181399           2016-12-09  61.100689\n",
       "189926           2017-03-28  60.312095\n",
       "199070           2018-04-06  61.457224\n",
       "\n",
       "[71 rows x 2 columns]"
      ]
     },
     "execution_count": 26,
     "metadata": {},
     "output_type": "execute_result"
    }
   ],
   "source": [
    "df['anio'] = [a.year for a in pd.to_datetime(df['Fecha'])]\n",
    "aux = df.copy()\n",
    "aux2 = aux.groupby('anio')['Precio'].min()#.agg({'Precio': np.max}) \n",
    "aux3 = pd.DataFrame({'anio':aux2.index, 'PrecioMin':aux2.values})\n",
    "aux4 = pd.merge(aux, aux3, on=['anio'], how='inner')\n",
    "aux5 = aux4[aux4['Precio'] == aux4['PrecioMin']]\n",
    "aux6 = aux5[['Fecha', 'PrecioMin']].drop_duplicates()\n",
    "aux6[['Fecha', 'PrecioMin']]"
   ]
  },
  {
   "cell_type": "markdown",
   "metadata": {},
   "source": [
    "**13.--** Haga una gráfica en que se muestre el precio promedio diario y el precio promedio mensual."
   ]
  },
  {
   "cell_type": "code",
   "execution_count": 27,
   "metadata": {},
   "outputs": [],
   "source": [
    "aux['mes'] = [a.month for a in pd.to_datetime(df['Fecha'])]\n",
    "aux1 = aux.groupby('Fecha')['Precio'].mean()\n",
    "aux2 = aux.groupby(['mes', 'anio'])['Precio'].mean()\n",
    "aux3 = pd.DataFrame({'anio':aux2.index.to_numpy(), 'Prom':aux2.values})\n",
    "aux3['anio'] = aux3['anio'][0][1]\n",
    "aux4 = aux3.T.squeeze()"
   ]
  },
  {
   "cell_type": "code",
   "execution_count": 28,
   "metadata": {},
   "outputs": [
    {
     "data": {
      "text/plain": [
       "[<matplotlib.lines.Line2D at 0x7f504a959c88>]"
      ]
     },
     "execution_count": 28,
     "metadata": {},
     "output_type": "execute_result"
    },
    {
     "data": {
      "image/png": "[encoded data removed]",
      "text/plain": [
       "<Figure size 432x288 with 1 Axes>"
      ]
     },
     "metadata": {
      "needs_background": "light"
     },
     "output_type": "display_data"
    }
   ],
   "source": [
    "plt.plot(aux1)"
   ]
  },
  {
   "cell_type": "code",
   "execution_count": 101,
   "metadata": {},
   "outputs": [
    {
     "data": {
      "text/plain": [
       "[<matplotlib.lines.Line2D at 0x7faec3354ef0>]"
      ]
     },
     "execution_count": 101,
     "metadata": {},
     "output_type": "execute_result"
    },
    {
     "data": {
      "image/png": "[encoded data removed]",
      "text/plain": [
       "<Figure size 432x288 with 1 Axes>"
      ]
     },
     "metadata": {
      "needs_background": "light"
     },
     "output_type": "display_data"
    }
   ],
   "source": [
    "plt.plot(aux1)"
   ]
  },
  {
   "cell_type": "code",
   "execution_count": 29,
   "metadata": {},
   "outputs": [
    {
     "data": {
      "text/plain": [
       "[<matplotlib.lines.Line2D at 0x7f5047baf470>,\n",
       " <matplotlib.lines.Line2D at 0x7f5047baf550>,\n",
       " <matplotlib.lines.Line2D at 0x7f5047baf6a0>,\n",
       " <matplotlib.lines.Line2D at 0x7f5047baf7f0>,\n",
       " <matplotlib.lines.Line2D at 0x7f5047baf940>,\n",
       " <matplotlib.lines.Line2D at 0x7f5047bafa90>,\n",
       " <matplotlib.lines.Line2D at 0x7f5047bafbe0>,\n",
       " <matplotlib.lines.Line2D at 0x7f5047bafd30>,\n",
       " <matplotlib.lines.Line2D at 0x7f5047bafe80>,\n",
       " <matplotlib.lines.Line2D at 0x7f5047baffd0>,\n",
       " <matplotlib.lines.Line2D at 0x7f5047b82ef0>,\n",
       " <matplotlib.lines.Line2D at 0x7f5047b36278>,\n",
       " <matplotlib.lines.Line2D at 0x7f5047b363c8>,\n",
       " <matplotlib.lines.Line2D at 0x7f5047b36518>,\n",
       " <matplotlib.lines.Line2D at 0x7f5047b36668>,\n",
       " <matplotlib.lines.Line2D at 0x7f5047b367b8>,\n",
       " <matplotlib.lines.Line2D at 0x7f5047b36908>,\n",
       " <matplotlib.lines.Line2D at 0x7f5047b36a58>,\n",
       " <matplotlib.lines.Line2D at 0x7f5047b36ba8>,\n",
       " <matplotlib.lines.Line2D at 0x7f5047b36cf8>,\n",
       " <matplotlib.lines.Line2D at 0x7f5047b36e48>,\n",
       " <matplotlib.lines.Line2D at 0x7f5047b36f98>,\n",
       " <matplotlib.lines.Line2D at 0x7f5047b3b128>,\n",
       " <matplotlib.lines.Line2D at 0x7f5047b3b278>,\n",
       " <matplotlib.lines.Line2D at 0x7f5047b3b3c8>,\n",
       " <matplotlib.lines.Line2D at 0x7f5047b3b518>,\n",
       " <matplotlib.lines.Line2D at 0x7f5047b3b668>,\n",
       " <matplotlib.lines.Line2D at 0x7f5047b3b7b8>,\n",
       " <matplotlib.lines.Line2D at 0x7f5047b3b908>,\n",
       " <matplotlib.lines.Line2D at 0x7f5047b3ba58>,\n",
       " <matplotlib.lines.Line2D at 0x7f5047b3bba8>,\n",
       " <matplotlib.lines.Line2D at 0x7f5047b3bcf8>,\n",
       " <matplotlib.lines.Line2D at 0x7f5047b3be48>,\n",
       " <matplotlib.lines.Line2D at 0x7f5047b3bf98>,\n",
       " <matplotlib.lines.Line2D at 0x7f5047b41128>,\n",
       " <matplotlib.lines.Line2D at 0x7f5047b41278>,\n",
       " <matplotlib.lines.Line2D at 0x7f5047b413c8>,\n",
       " <matplotlib.lines.Line2D at 0x7f5047b41518>,\n",
       " <matplotlib.lines.Line2D at 0x7f5047b41668>,\n",
       " <matplotlib.lines.Line2D at 0x7f5047b417b8>,\n",
       " <matplotlib.lines.Line2D at 0x7f5047b41908>,\n",
       " <matplotlib.lines.Line2D at 0x7f5047b41a58>,\n",
       " <matplotlib.lines.Line2D at 0x7f5047b41ba8>,\n",
       " <matplotlib.lines.Line2D at 0x7f5047b41cf8>,\n",
       " <matplotlib.lines.Line2D at 0x7f5047b41e48>,\n",
       " <matplotlib.lines.Line2D at 0x7f5047b41f98>,\n",
       " <matplotlib.lines.Line2D at 0x7f5047b45128>,\n",
       " <matplotlib.lines.Line2D at 0x7f5047b45278>,\n",
       " <matplotlib.lines.Line2D at 0x7f5047b453c8>,\n",
       " <matplotlib.lines.Line2D at 0x7f5047b45518>,\n",
       " <matplotlib.lines.Line2D at 0x7f5047b45668>,\n",
       " <matplotlib.lines.Line2D at 0x7f5047b457b8>,\n",
       " <matplotlib.lines.Line2D at 0x7f5047b45908>,\n",
       " <matplotlib.lines.Line2D at 0x7f5047b45a58>,\n",
       " <matplotlib.lines.Line2D at 0x7f5047b45ba8>,\n",
       " <matplotlib.lines.Line2D at 0x7f5047b45cf8>,\n",
       " <matplotlib.lines.Line2D at 0x7f5047b45e48>,\n",
       " <matplotlib.lines.Line2D at 0x7f5047b45f98>,\n",
       " <matplotlib.lines.Line2D at 0x7f5047b4b128>,\n",
       " <matplotlib.lines.Line2D at 0x7f5047b4b278>,\n",
       " <matplotlib.lines.Line2D at 0x7f5047b4b3c8>,\n",
       " <matplotlib.lines.Line2D at 0x7f5047b4b518>,\n",
       " <matplotlib.lines.Line2D at 0x7f5047b4b668>,\n",
       " <matplotlib.lines.Line2D at 0x7f5047b4b7b8>,\n",
       " <matplotlib.lines.Line2D at 0x7f5047b4b908>,\n",
       " <matplotlib.lines.Line2D at 0x7f5047b4ba58>,\n",
       " <matplotlib.lines.Line2D at 0x7f5047b4bba8>,\n",
       " <matplotlib.lines.Line2D at 0x7f5047b4bcf8>,\n",
       " <matplotlib.lines.Line2D at 0x7f5047b4be48>,\n",
       " <matplotlib.lines.Line2D at 0x7f5047b4bf98>,\n",
       " <matplotlib.lines.Line2D at 0x7f5047b4f128>,\n",
       " <matplotlib.lines.Line2D at 0x7f5047b4f278>,\n",
       " <matplotlib.lines.Line2D at 0x7f5047b4f3c8>,\n",
       " <matplotlib.lines.Line2D at 0x7f5047b4f518>,\n",
       " <matplotlib.lines.Line2D at 0x7f5047b4f668>,\n",
       " <matplotlib.lines.Line2D at 0x7f5047b4f7b8>,\n",
       " <matplotlib.lines.Line2D at 0x7f5047b4f908>,\n",
       " <matplotlib.lines.Line2D at 0x7f5047b4fa58>,\n",
       " <matplotlib.lines.Line2D at 0x7f5047b4fba8>,\n",
       " <matplotlib.lines.Line2D at 0x7f5047b4fcf8>,\n",
       " <matplotlib.lines.Line2D at 0x7f5047b4fe48>,\n",
       " <matplotlib.lines.Line2D at 0x7f5047b4ff98>,\n",
       " <matplotlib.lines.Line2D at 0x7f5047b55128>,\n",
       " <matplotlib.lines.Line2D at 0x7f5047b55278>,\n",
       " <matplotlib.lines.Line2D at 0x7f5047b553c8>,\n",
       " <matplotlib.lines.Line2D at 0x7f5047b55518>,\n",
       " <matplotlib.lines.Line2D at 0x7f5047b55668>,\n",
       " <matplotlib.lines.Line2D at 0x7f5047b557b8>,\n",
       " <matplotlib.lines.Line2D at 0x7f5047b55908>,\n",
       " <matplotlib.lines.Line2D at 0x7f5047b55a58>,\n",
       " <matplotlib.lines.Line2D at 0x7f5047b55ba8>,\n",
       " <matplotlib.lines.Line2D at 0x7f5047b55cf8>,\n",
       " <matplotlib.lines.Line2D at 0x7f5047b55e48>,\n",
       " <matplotlib.lines.Line2D at 0x7f5047b55f98>,\n",
       " <matplotlib.lines.Line2D at 0x7f5047b59128>,\n",
       " <matplotlib.lines.Line2D at 0x7f5047b59278>,\n",
       " <matplotlib.lines.Line2D at 0x7f5047b593c8>,\n",
       " <matplotlib.lines.Line2D at 0x7f5047b59518>,\n",
       " <matplotlib.lines.Line2D at 0x7f5047b59668>,\n",
       " <matplotlib.lines.Line2D at 0x7f5047b597b8>,\n",
       " <matplotlib.lines.Line2D at 0x7f5047b59908>,\n",
       " <matplotlib.lines.Line2D at 0x7f5047b59a58>,\n",
       " <matplotlib.lines.Line2D at 0x7f5047b59ba8>,\n",
       " <matplotlib.lines.Line2D at 0x7f5047b59cf8>,\n",
       " <matplotlib.lines.Line2D at 0x7f5047b59e48>,\n",
       " <matplotlib.lines.Line2D at 0x7f5047b59f98>,\n",
       " <matplotlib.lines.Line2D at 0x7f5047b5f128>,\n",
       " <matplotlib.lines.Line2D at 0x7f5047b5f278>,\n",
       " <matplotlib.lines.Line2D at 0x7f5047b5f3c8>,\n",
       " <matplotlib.lines.Line2D at 0x7f5047b5f518>,\n",
       " <matplotlib.lines.Line2D at 0x7f5047b5f668>,\n",
       " <matplotlib.lines.Line2D at 0x7f5047b5f7b8>,\n",
       " <matplotlib.lines.Line2D at 0x7f5047b5f908>,\n",
       " <matplotlib.lines.Line2D at 0x7f5047b5fa58>,\n",
       " <matplotlib.lines.Line2D at 0x7f5047b5fba8>,\n",
       " <matplotlib.lines.Line2D at 0x7f5047b5fcf8>,\n",
       " <matplotlib.lines.Line2D at 0x7f5047b5fe48>,\n",
       " <matplotlib.lines.Line2D at 0x7f5047b5ff98>,\n",
       " <matplotlib.lines.Line2D at 0x7f5047b64128>,\n",
       " <matplotlib.lines.Line2D at 0x7f5047b64278>,\n",
       " <matplotlib.lines.Line2D at 0x7f5047b643c8>,\n",
       " <matplotlib.lines.Line2D at 0x7f5047b64518>,\n",
       " <matplotlib.lines.Line2D at 0x7f5047b64668>,\n",
       " <matplotlib.lines.Line2D at 0x7f5047b647b8>,\n",
       " <matplotlib.lines.Line2D at 0x7f5047b64908>,\n",
       " <matplotlib.lines.Line2D at 0x7f5047b64a58>,\n",
       " <matplotlib.lines.Line2D at 0x7f5047b64ba8>,\n",
       " <matplotlib.lines.Line2D at 0x7f5047b64cf8>,\n",
       " <matplotlib.lines.Line2D at 0x7f5047b64e48>,\n",
       " <matplotlib.lines.Line2D at 0x7f5047b64f98>,\n",
       " <matplotlib.lines.Line2D at 0x7f5047b69128>,\n",
       " <matplotlib.lines.Line2D at 0x7f5047b69278>,\n",
       " <matplotlib.lines.Line2D at 0x7f5047b693c8>,\n",
       " <matplotlib.lines.Line2D at 0x7f5047b69518>,\n",
       " <matplotlib.lines.Line2D at 0x7f5047b69668>,\n",
       " <matplotlib.lines.Line2D at 0x7f5047b697b8>,\n",
       " <matplotlib.lines.Line2D at 0x7f5047b69908>,\n",
       " <matplotlib.lines.Line2D at 0x7f5047b69a58>,\n",
       " <matplotlib.lines.Line2D at 0x7f5047b69ba8>,\n",
       " <matplotlib.lines.Line2D at 0x7f5047b69cf8>,\n",
       " <matplotlib.lines.Line2D at 0x7f5047b69e48>,\n",
       " <matplotlib.lines.Line2D at 0x7f5047b69f98>,\n",
       " <matplotlib.lines.Line2D at 0x7f5047b6f128>,\n",
       " <matplotlib.lines.Line2D at 0x7f5047b6f278>,\n",
       " <matplotlib.lines.Line2D at 0x7f5047b6f3c8>,\n",
       " <matplotlib.lines.Line2D at 0x7f5047b6f518>,\n",
       " <matplotlib.lines.Line2D at 0x7f5047b6f668>,\n",
       " <matplotlib.lines.Line2D at 0x7f5047b6f7b8>,\n",
       " <matplotlib.lines.Line2D at 0x7f5047b6f908>,\n",
       " <matplotlib.lines.Line2D at 0x7f5047b6fa58>,\n",
       " <matplotlib.lines.Line2D at 0x7f5047b6fba8>,\n",
       " <matplotlib.lines.Line2D at 0x7f5047b6fcf8>,\n",
       " <matplotlib.lines.Line2D at 0x7f5047b6fe48>,\n",
       " <matplotlib.lines.Line2D at 0x7f5047b6ff98>,\n",
       " <matplotlib.lines.Line2D at 0x7f5047af4128>,\n",
       " <matplotlib.lines.Line2D at 0x7f5047af4278>,\n",
       " <matplotlib.lines.Line2D at 0x7f5047af43c8>,\n",
       " <matplotlib.lines.Line2D at 0x7f5047af4518>,\n",
       " <matplotlib.lines.Line2D at 0x7f5047af4668>,\n",
       " <matplotlib.lines.Line2D at 0x7f5047af47b8>,\n",
       " <matplotlib.lines.Line2D at 0x7f5047af4908>,\n",
       " <matplotlib.lines.Line2D at 0x7f5047af4a58>,\n",
       " <matplotlib.lines.Line2D at 0x7f5047af4ba8>,\n",
       " <matplotlib.lines.Line2D at 0x7f5047af4cf8>,\n",
       " <matplotlib.lines.Line2D at 0x7f5047af4e48>,\n",
       " <matplotlib.lines.Line2D at 0x7f5047af4f98>,\n",
       " <matplotlib.lines.Line2D at 0x7f5047af8128>,\n",
       " <matplotlib.lines.Line2D at 0x7f5047af8278>,\n",
       " <matplotlib.lines.Line2D at 0x7f5047af83c8>,\n",
       " <matplotlib.lines.Line2D at 0x7f5047af8518>,\n",
       " <matplotlib.lines.Line2D at 0x7f5047af8668>,\n",
       " <matplotlib.lines.Line2D at 0x7f5047af87b8>,\n",
       " <matplotlib.lines.Line2D at 0x7f5047af8908>,\n",
       " <matplotlib.lines.Line2D at 0x7f5047af8a58>,\n",
       " <matplotlib.lines.Line2D at 0x7f5047af8ba8>,\n",
       " <matplotlib.lines.Line2D at 0x7f5047af8cf8>,\n",
       " <matplotlib.lines.Line2D at 0x7f5047af8e48>,\n",
       " <matplotlib.lines.Line2D at 0x7f5047af8f98>,\n",
       " <matplotlib.lines.Line2D at 0x7f5047afd128>,\n",
       " <matplotlib.lines.Line2D at 0x7f5047afd278>,\n",
       " <matplotlib.lines.Line2D at 0x7f5047afd3c8>,\n",
       " <matplotlib.lines.Line2D at 0x7f5047afd518>,\n",
       " <matplotlib.lines.Line2D at 0x7f5047afd668>,\n",
       " <matplotlib.lines.Line2D at 0x7f5047afd7b8>,\n",
       " <matplotlib.lines.Line2D at 0x7f5047afd908>,\n",
       " <matplotlib.lines.Line2D at 0x7f5047afda58>,\n",
       " <matplotlib.lines.Line2D at 0x7f5047afdba8>,\n",
       " <matplotlib.lines.Line2D at 0x7f5047afdcf8>,\n",
       " <matplotlib.lines.Line2D at 0x7f5047afde48>,\n",
       " <matplotlib.lines.Line2D at 0x7f5047afdf98>,\n",
       " <matplotlib.lines.Line2D at 0x7f5047b03128>,\n",
       " <matplotlib.lines.Line2D at 0x7f5047b03278>,\n",
       " <matplotlib.lines.Line2D at 0x7f5047b033c8>,\n",
       " <matplotlib.lines.Line2D at 0x7f5047b03518>,\n",
       " <matplotlib.lines.Line2D at 0x7f5047b03668>,\n",
       " <matplotlib.lines.Line2D at 0x7f5047b037b8>,\n",
       " <matplotlib.lines.Line2D at 0x7f5047b03908>,\n",
       " <matplotlib.lines.Line2D at 0x7f5047b03a58>,\n",
       " <matplotlib.lines.Line2D at 0x7f5047b03ba8>,\n",
       " <matplotlib.lines.Line2D at 0x7f5047b03cf8>,\n",
       " <matplotlib.lines.Line2D at 0x7f5047b03e48>,\n",
       " <matplotlib.lines.Line2D at 0x7f5047b03f98>,\n",
       " <matplotlib.lines.Line2D at 0x7f5047b08128>,\n",
       " <matplotlib.lines.Line2D at 0x7f5047b08278>,\n",
       " <matplotlib.lines.Line2D at 0x7f5047b083c8>,\n",
       " <matplotlib.lines.Line2D at 0x7f5047b08518>,\n",
       " <matplotlib.lines.Line2D at 0x7f5047b08668>,\n",
       " <matplotlib.lines.Line2D at 0x7f5047b087b8>,\n",
       " <matplotlib.lines.Line2D at 0x7f5047b08908>,\n",
       " <matplotlib.lines.Line2D at 0x7f5047b08a58>,\n",
       " <matplotlib.lines.Line2D at 0x7f5047b08ba8>,\n",
       " <matplotlib.lines.Line2D at 0x7f5047b08cf8>,\n",
       " <matplotlib.lines.Line2D at 0x7f5047b08e48>,\n",
       " <matplotlib.lines.Line2D at 0x7f5047b08f98>,\n",
       " <matplotlib.lines.Line2D at 0x7f5047b0d128>,\n",
       " <matplotlib.lines.Line2D at 0x7f5047b0d278>,\n",
       " <matplotlib.lines.Line2D at 0x7f5047b0d3c8>,\n",
       " <matplotlib.lines.Line2D at 0x7f5047b0d518>,\n",
       " <matplotlib.lines.Line2D at 0x7f5047b0d668>,\n",
       " <matplotlib.lines.Line2D at 0x7f5047b0d7b8>,\n",
       " <matplotlib.lines.Line2D at 0x7f5047b0d908>,\n",
       " <matplotlib.lines.Line2D at 0x7f5047b0da58>,\n",
       " <matplotlib.lines.Line2D at 0x7f5047b0dba8>,\n",
       " <matplotlib.lines.Line2D at 0x7f5047b0dcf8>,\n",
       " <matplotlib.lines.Line2D at 0x7f5047b0de48>,\n",
       " <matplotlib.lines.Line2D at 0x7f5047b0df98>,\n",
       " <matplotlib.lines.Line2D at 0x7f5047b13128>,\n",
       " <matplotlib.lines.Line2D at 0x7f5047b13278>,\n",
       " <matplotlib.lines.Line2D at 0x7f5047b133c8>,\n",
       " <matplotlib.lines.Line2D at 0x7f5047b13518>,\n",
       " <matplotlib.lines.Line2D at 0x7f5047b13668>,\n",
       " <matplotlib.lines.Line2D at 0x7f5047b137b8>,\n",
       " <matplotlib.lines.Line2D at 0x7f5047b13908>,\n",
       " <matplotlib.lines.Line2D at 0x7f5047b13a58>,\n",
       " <matplotlib.lines.Line2D at 0x7f5047b13ba8>,\n",
       " <matplotlib.lines.Line2D at 0x7f5047b13cf8>,\n",
       " <matplotlib.lines.Line2D at 0x7f5047b13e48>,\n",
       " <matplotlib.lines.Line2D at 0x7f5047b13f98>,\n",
       " <matplotlib.lines.Line2D at 0x7f5047b18128>,\n",
       " <matplotlib.lines.Line2D at 0x7f5047b18278>,\n",
       " <matplotlib.lines.Line2D at 0x7f5047b183c8>,\n",
       " <matplotlib.lines.Line2D at 0x7f5047b18518>,\n",
       " <matplotlib.lines.Line2D at 0x7f5047b18668>,\n",
       " <matplotlib.lines.Line2D at 0x7f5047b187b8>,\n",
       " <matplotlib.lines.Line2D at 0x7f5047b18908>,\n",
       " <matplotlib.lines.Line2D at 0x7f5047b18a58>,\n",
       " <matplotlib.lines.Line2D at 0x7f5047b18ba8>,\n",
       " <matplotlib.lines.Line2D at 0x7f5047b18cf8>,\n",
       " <matplotlib.lines.Line2D at 0x7f5047b18e48>,\n",
       " <matplotlib.lines.Line2D at 0x7f5047b18f98>,\n",
       " <matplotlib.lines.Line2D at 0x7f5047b1d128>,\n",
       " <matplotlib.lines.Line2D at 0x7f5047b1d278>,\n",
       " <matplotlib.lines.Line2D at 0x7f5047b1d3c8>,\n",
       " <matplotlib.lines.Line2D at 0x7f5047b1d518>,\n",
       " <matplotlib.lines.Line2D at 0x7f5047b1d668>,\n",
       " <matplotlib.lines.Line2D at 0x7f5047b1d7b8>,\n",
       " <matplotlib.lines.Line2D at 0x7f5047b1d908>,\n",
       " <matplotlib.lines.Line2D at 0x7f5047b1da58>,\n",
       " <matplotlib.lines.Line2D at 0x7f5047b1dba8>,\n",
       " <matplotlib.lines.Line2D at 0x7f5047b1dcf8>,\n",
       " <matplotlib.lines.Line2D at 0x7f5047b1de48>,\n",
       " <matplotlib.lines.Line2D at 0x7f5047b1df98>,\n",
       " <matplotlib.lines.Line2D at 0x7f5047b21128>,\n",
       " <matplotlib.lines.Line2D at 0x7f5047b21278>,\n",
       " <matplotlib.lines.Line2D at 0x7f5047b213c8>,\n",
       " <matplotlib.lines.Line2D at 0x7f5047b21518>,\n",
       " <matplotlib.lines.Line2D at 0x7f5047b21668>,\n",
       " <matplotlib.lines.Line2D at 0x7f5047b217b8>,\n",
       " <matplotlib.lines.Line2D at 0x7f5047b21908>,\n",
       " <matplotlib.lines.Line2D at 0x7f5047b21a58>,\n",
       " <matplotlib.lines.Line2D at 0x7f5047b21ba8>,\n",
       " <matplotlib.lines.Line2D at 0x7f5047b21cf8>,\n",
       " <matplotlib.lines.Line2D at 0x7f5047b21e48>,\n",
       " <matplotlib.lines.Line2D at 0x7f5047b21f98>,\n",
       " <matplotlib.lines.Line2D at 0x7f5047b27128>]"
      ]
     },
     "execution_count": 29,
     "metadata": {},
     "output_type": "execute_result"
    },
    {
     "data": {
      "image/png": "[encoded data removed]",
      "text/plain": [
       "<Figure size 432x288 with 1 Axes>"
      ]
     },
     "metadata": {
      "needs_background": "light"
     },
     "output_type": "display_data"
    }
   ],
   "source": [
    "plt.plot(aux4)"
   ]
  },
  {
   "cell_type": "code",
   "execution_count": 30,
   "metadata": {},
   "outputs": [],
   "source": [
    "DatosPorMesPromedio = DataFrameSinRepetir.copy()\n",
    "DatosPorMesPromedio['Fecha'] = pd.to_datetime(DatosPorMesPromedio['Fecha'])\n",
    "DatosPorMesPromedio['Mes'] =  DatosPorMesPromedio[['Fecha']].apply(lambda x: dt.datetime.strftime(x['Fecha'], '%m'), axis=1)\n",
    "DatosPorMesPromedio['year'] =  DatosPorMesPromedio[['Fecha']].apply(lambda x: dt.datetime.strftime(x['Fecha'], '%Y'), axis=1)\n",
    "DatosPorMesYear = DatosPorMesPromedio.groupby(['Mes','year']).agg({'Precio': np.mean}) \n",
    "DatosPorMesYear.reset_index(inplace=True)\n",
    "DatosPorMesYear.columns = ['Mes','year','PromedioPorMes']\n",
    "\n",
    "DataFramesMerge = pd.merge(DatosPorMesYear, DatosPorMesPromedio, on = ['Mes','year'], how ='inner')\n",
    "\n",
    "DatosPorDia = DataFrameSinRepetir.copy()\n",
    "DatosPorDia['Fecha'] = pd.to_datetime(DatosPorDia['Fecha'])\n",
    "DatosPorDia = DatosPorDia.groupby('Fecha').agg({'Precio': np.mean}) \n",
    "DatosPorDia.reset_index(inplace=True)\n",
    "DatosPorDia.columns = ['Fecha','PrecioPorDia']\n",
    "\n",
    "DataFramesMerge = pd.merge(DatosPorMesYear, DatosPorMesPromedio, on = ['Mes','year'], how ='inner')\n",
    "DataFramesMerge = pd.merge(DataFramesMerge, DatosPorDia, on = ['Fecha'], how ='inner')\n",
    "DataFrameHaGraficar = DataFramesMerge.groupby('Fecha').agg({'PrecioPorDia': np.mean,'PromedioPorMes': np.mean}) \n"
   ]
  },
  {
   "cell_type": "code",
   "execution_count": 31,
   "metadata": {},
   "outputs": [
    {
     "data": {
      "text/plain": [
       "<matplotlib.legend.Legend at 0x7f5046ace9b0>"
      ]
     },
     "execution_count": 31,
     "metadata": {},
     "output_type": "execute_result"
    },
    {
     "data": {
      "text/plain": [
       "<Figure size 1440x1440 with 0 Axes>"
      ]
     },
     "metadata": {},
     "output_type": "display_data"
    },
    {
     "data": {
      "image/png": "[encoded data removed]",
      "text/plain": [
       "<Figure size 432x288 with 1 Axes>"
      ]
     },
     "metadata": {
      "needs_background": "light"
     },
     "output_type": "display_data"
    }
   ],
   "source": [
    "plt.figure(figsize=(20, 20))\n",
    "fig, ax = plt.subplots()\n",
    "ax.plot((DataFrameHaGraficar.index.tolist()), DataFrameHaGraficar['PrecioPorDia'], label=\"Precio promedio por día\")\n",
    "ax.plot((DataFrameHaGraficar.index.tolist()), DataFrameHaGraficar['PromedioPorMes'], label=\"Precio promedio por mes\")\n",
    "plt.xlabel(\"Año\")\n",
    "plt.ylabel(\"Precio\")\n",
    "\n",
    "ax.legend()\n"
   ]
  },
  {
   "cell_type": "markdown",
   "metadata": {},
   "source": [
    "---"
   ]
  }
 ],
 "metadata": {
  "anaconda-cloud": {},
  "kernel_info": {
   "name": "python3"
  },
  "kernelspec": {
   "display_name": "Python 3",
   "language": "python",
   "name": "python3"
  },
  "language_info": {
   "codemirror_mode": {
    "name": "ipython",
    "version": 3
   },
   "file_extension": ".py",
   "mimetype": "text/x-python",
   "name": "python",
   "nbconvert_exporter": "python",
   "pygments_lexer": "ipython3",
   "version": "3.6.7"
  },
  "nteract": {
   "version": "0.7.1"
  }
 },
 "nbformat": 4,
 "nbformat_minor": 2
}
